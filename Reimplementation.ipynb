{
 "cells": [
  {
   "cell_type": "code",
   "execution_count": 8,
   "metadata": {},
   "outputs": [],
   "source": [
    "import numpy as np\n",
    "import tensorflow as tf\n",
    "import os\n",
    "\n",
    "assert tf.__version__ == \"2.0.0-beta1\", \"Check tensorflow version. Should be 2.0.0-beta1.\""
   ]
  },
  {
   "cell_type": "code",
   "execution_count": 9,
   "metadata": {},
   "outputs": [],
   "source": [
    "try:\n",
    "    gpu = tf.config.experimental.list_physical_devices('GPU')[0]\n",
    "    tf.config.experimental.set_memory_growth(gpu, True)\n",
    "except RuntimeError as error:\n",
    "    print('This config has already been invoked. Error message:')\n",
    "    print(error)"
   ]
  },
  {
   "cell_type": "code",
   "execution_count": 10,
   "metadata": {},
   "outputs": [],
   "source": [
    "def check_songs(sources_all, mixtures_all):\n",
    "    for ix, song in enumerate(sources_all):\n",
    "        song = song.replace(\"Sources\", \"Mixtures\")\n",
    "        song = song.replace(\"vocals\", \"mixture\")\n",
    "        if song != mixtures_all[ix]:\n",
    "            print(f\"Index {ix} with song name '{song}' does not match.\")\n",
    "            raise TypeError\n",
    "        else:\n",
    "            continue\n",
    "    print(\"Songs are in the right order.\")"
   ]
  },
  {
   "cell_type": "code",
   "execution_count": 11,
   "metadata": {},
   "outputs": [
    {
     "name": "stdout",
     "output_type": "stream",
     "text": [
      "Checking song order...\n",
      "\n",
      "Songs are in the right order.\n",
      "Songs are in the right order.\n",
      "Songs are in the right order.\n",
      "\n",
      "Total songs: 99. Total data: 90. Total listening: 9.\n"
     ]
    }
   ],
   "source": [
    "sources_all = np.array(['Data/Sources/'+s+'/vocals.wav' for s in os.listdir('Data/Sources')])\n",
    "mixtures_all = np.array(['Data/Mixtures/'+s+'/mixture.wav' for s in os.listdir('Data/Mixtures')])\n",
    "\n",
    "sources_data, sources_listen = np.array(sources_all[:90]), np.array(sources_all[90:])\n",
    "mixtures_data, mixtures_listen = np.array(mixtures_all[:90]), np.array(mixtures_all[90:])\n",
    "\n",
    "print(\"Checking song order...\\n\")\n",
    "\n",
    "check_songs(sources_all, mixtures_all)\n",
    "check_songs(sources_data, mixtures_data)\n",
    "check_songs(sources_listen, mixtures_listen)\n",
    "\n",
    "print()\n",
    "print(f\"Total songs: {len(sources_all)}. Total data: {len(sources_data)}. Total listening: {len(sources_listen)}.\")"
   ]
  },
  {
   "cell_type": "code",
   "execution_count": 5,
   "metadata": {},
   "outputs": [],
   "source": [
    "@tf.function\n",
    "def get_song_stft(source, mixture, frame_length=2048, frame_step=512):\n",
    "    \n",
    "    source_string = tf.io.read_file(tf.convert_to_tensor(source, dtype=tf.string))\n",
    "    mixture_string = tf.io.read_file(tf.convert_to_tensor(source, dtype=tf.string))\n",
    "    \n",
    "    decoded_source, _ = tf.audio.decode_wav(source_string)\n",
    "    decoded_mixture, _ = tf.audio.decode_wav(mixture_string)\n",
    "    \n",
    "    decoded_source_norm = decoded_source[:,0] / tf.reduce_max(decoded_source[:,0])\n",
    "    decoded_mixture_norm = decoded_mixture[:,0] / tf.reduce_max(decoded_mixture[:,0])\n",
    "    \n",
    "    decoded_source_stft = tf.abs(tf.signal.stft(decoded_source_norm, frame_length=frame_length, frame_step=frame_step))\n",
    "    decoded_mixture_stft = tf.abs(tf.signal.stft(decoded_mixture_norm, frame_length=frame_length, frame_step=frame_step))\n",
    "    \n",
    "    return decoded_source_stft, decoded_mixture_stft\n",
    "\n",
    "\n",
    "def get_temporal_context(source_stft, mixture_stft, context_len=15, dtype=np.float16):\n",
    "    \n",
    "    source_stft_contexts, mixture_stft_contexts = [], []\n",
    "    \n",
    "    assert len(source_stft) == len(mixture_stft), \"The source and mixture do not match length.\"\n",
    "    assert context_len % 2 != 0, \"The context window must be odd.\"\n",
    "    \n",
    "    for ix in range(0,len(source_stft)-context_len, context_len):\n",
    "        single_source_context = source_stft[ix+(int((context_len-1)/2))]\n",
    "        single_mixture_context = mixture_stft[ix:ix+context_len]\n",
    "        \n",
    "        source_stft_contexts.append(single_source_context)\n",
    "        mixture_stft_contexts.append(single_mixture_context)\n",
    "        \n",
    "    source_stft_contexts = np.expand_dims(np.stack(source_stft_contexts).astype(dtype), 1)\n",
    "    mixture_stft_contexts = np.stack(mixture_stft_contexts).astype(dtype)\n",
    "    \n",
    "    return source_stft_contexts, mixture_stft_contexts\n",
    "\n",
    "\n",
    "def get_data(sources, mixtures, dtype=np.float16, mem_limit=2.0):\n",
    "    \n",
    "    all_sources, all_mixtures = [], []\n",
    "    song_iter = 1\n",
    "    mem_usage = 0\n",
    "    \n",
    "    for source, mixture in zip(sources, mixtures):\n",
    "        \n",
    "        try:\n",
    "            source_stft, mixture_stft = get_song_stft(tf.cast(source, dtype=tf.string),\n",
    "                                                      tf.cast(mixture, dtype=tf.string),\n",
    "                                                      frame_length=2048,\n",
    "                                                      frame_step=512)\n",
    "\n",
    "            source_context, mixture_context = get_temporal_context(np.array(source_stft),\n",
    "                                                                   np.array(mixture_stft),\n",
    "                                                                   context_len=15,\n",
    "                                                                   dtype=np.float16)\n",
    "        except:\n",
    "            print(f\"\\nSong {source} not found. Skipping...\\n\")\n",
    "            song_iter += 1\n",
    "            continue\n",
    "        \n",
    "        all_sources.append(source_context)\n",
    "        all_mixtures.append(mixture_context)\n",
    "        \n",
    "        song_mem_usage = source_context.nbytes + mixture_context.nbytes\n",
    "        mem_usage += song_mem_usage\n",
    "        \n",
    "        print(f\"STFT no: {song_iter}/{len(sources)}.\",\\\n",
    "              f\"STFT memory usage: {np.round(song_mem_usage*1e-6, 1)} MB.\",\\\n",
    "              f\"Total memory usage: {np.round(mem_usage*1e-9, 1)}/{mem_limit} GB.\")\n",
    "        \n",
    "        song_iter += 1\n",
    "        \n",
    "        if mem_usage*1e-9 > mem_limit:\n",
    "            print(f\"\\nMemory limit exceeded. Returning {len(all_sources)} songs...\")\n",
    "            break\n",
    "\n",
    "    all_sources = np.expand_dims(np.concatenate(all_sources), -1)\n",
    "    all_mixtures = np.expand_dims(np.concatenate(all_mixtures), -1)\n",
    "    \n",
    "    return all_sources, all_mixtures"
   ]
  },
  {
   "cell_type": "code",
   "execution_count": 27,
   "metadata": {},
   "outputs": [
    {
     "name": "stdout",
     "output_type": "stream",
     "text": [
      "STFT no: 1/90. STFT memory usage: 44.8 MB. Total memory usage: 0.0/16.0 GB.\n",
      "STFT no: 2/90. STFT memory usage: 31.2 MB. Total memory usage: 0.1/16.0 GB.\n",
      "STFT no: 3/90. STFT memory usage: 30.8 MB. Total memory usage: 0.1/16.0 GB.\n",
      "STFT no: 4/90. STFT memory usage: 37.8 MB. Total memory usage: 0.1/16.0 GB.\n",
      "STFT no: 5/90. STFT memory usage: 39.7 MB. Total memory usage: 0.2/16.0 GB.\n",
      "STFT no: 6/90. STFT memory usage: 50.5 MB. Total memory usage: 0.2/16.0 GB.\n",
      "STFT no: 7/90. STFT memory usage: 41.4 MB. Total memory usage: 0.3/16.0 GB.\n",
      "STFT no: 8/90. STFT memory usage: 43.5 MB. Total memory usage: 0.3/16.0 GB.\n",
      "STFT no: 9/90. STFT memory usage: 41.7 MB. Total memory usage: 0.4/16.0 GB.\n",
      "STFT no: 10/90. STFT memory usage: 47.1 MB. Total memory usage: 0.4/16.0 GB.\n",
      "STFT no: 11/90. STFT memory usage: 55.5 MB. Total memory usage: 0.5/16.0 GB.\n",
      "STFT no: 12/90. STFT memory usage: 43.8 MB. Total memory usage: 0.5/16.0 GB.\n",
      "STFT no: 13/90. STFT memory usage: 67.2 MB. Total memory usage: 0.6/16.0 GB.\n",
      "STFT no: 14/90. STFT memory usage: 31.8 MB. Total memory usage: 0.6/16.0 GB.\n",
      "STFT no: 15/90. STFT memory usage: 36.1 MB. Total memory usage: 0.6/16.0 GB.\n",
      "STFT no: 16/90. STFT memory usage: 51.5 MB. Total memory usage: 0.7/16.0 GB.\n",
      "STFT no: 17/90. STFT memory usage: 59.7 MB. Total memory usage: 0.8/16.0 GB.\n",
      "STFT no: 18/90. STFT memory usage: 26.7 MB. Total memory usage: 0.8/16.0 GB.\n",
      "STFT no: 19/90. STFT memory usage: 38.7 MB. Total memory usage: 0.8/16.0 GB.\n",
      "STFT no: 20/90. STFT memory usage: 45.6 MB. Total memory usage: 0.9/16.0 GB.\n",
      "STFT no: 21/90. STFT memory usage: 48.2 MB. Total memory usage: 0.9/16.0 GB.\n",
      "STFT no: 22/90. STFT memory usage: 53.8 MB. Total memory usage: 1.0/16.0 GB.\n",
      "\n",
      "Song Data/Sources/023 - Jokers, Jacks & Kings - Sea Of Leaves/vocals.wav not found. Skipping...\n",
      "\n",
      "STFT no: 24/90. STFT memory usage: 49.8 MB. Total memory usage: 1.0/16.0 GB.\n",
      "STFT no: 25/90. STFT memory usage: 35.9 MB. Total memory usage: 1.1/16.0 GB.\n",
      "STFT no: 26/90. STFT memory usage: 55.1 MB. Total memory usage: 1.1/16.0 GB.\n",
      "STFT no: 27/90. STFT memory usage: 50.8 MB. Total memory usage: 1.2/16.0 GB.\n",
      "STFT no: 28/90. STFT memory usage: 46.4 MB. Total memory usage: 1.2/16.0 GB.\n",
      "STFT no: 29/90. STFT memory usage: 64.7 MB. Total memory usage: 1.3/16.0 GB.\n",
      "STFT no: 30/90. STFT memory usage: 48.9 MB. Total memory usage: 1.3/16.0 GB.\n",
      "STFT no: 31/90. STFT memory usage: 42.2 MB. Total memory usage: 1.4/16.0 GB.\n",
      "STFT no: 32/90. STFT memory usage: 40.0 MB. Total memory usage: 1.4/16.0 GB.\n",
      "STFT no: 33/90. STFT memory usage: 59.9 MB. Total memory usage: 1.5/16.0 GB.\n",
      "STFT no: 34/90. STFT memory usage: 47.3 MB. Total memory usage: 1.5/16.0 GB.\n",
      "STFT no: 35/90. STFT memory usage: 33.4 MB. Total memory usage: 1.5/16.0 GB.\n",
      "STFT no: 36/90. STFT memory usage: 74.5 MB. Total memory usage: 1.6/16.0 GB.\n",
      "STFT no: 37/90. STFT memory usage: 47.7 MB. Total memory usage: 1.7/16.0 GB.\n",
      "STFT no: 38/90. STFT memory usage: 48.3 MB. Total memory usage: 1.7/16.0 GB.\n",
      "STFT no: 39/90. STFT memory usage: 58.4 MB. Total memory usage: 1.8/16.0 GB.\n",
      "STFT no: 40/90. STFT memory usage: 49.1 MB. Total memory usage: 1.8/16.0 GB.\n",
      "STFT no: 41/90. STFT memory usage: 46.0 MB. Total memory usage: 1.9/16.0 GB.\n",
      "STFT no: 42/90. STFT memory usage: 38.1 MB. Total memory usage: 1.9/16.0 GB.\n",
      "STFT no: 43/90. STFT memory usage: 47.6 MB. Total memory usage: 2.0/16.0 GB.\n",
      "STFT no: 44/90. STFT memory usage: 33.1 MB. Total memory usage: 2.0/16.0 GB.\n",
      "STFT no: 45/90. STFT memory usage: 79.3 MB. Total memory usage: 2.1/16.0 GB.\n",
      "STFT no: 46/90. STFT memory usage: 35.3 MB. Total memory usage: 2.1/16.0 GB.\n",
      "STFT no: 47/90. STFT memory usage: 39.6 MB. Total memory usage: 2.1/16.0 GB.\n",
      "STFT no: 48/90. STFT memory usage: 39.1 MB. Total memory usage: 2.2/16.0 GB.\n",
      "STFT no: 49/90. STFT memory usage: 31.6 MB. Total memory usage: 2.2/16.0 GB.\n",
      "STFT no: 50/90. STFT memory usage: 44.1 MB. Total memory usage: 2.3/16.0 GB.\n",
      "STFT no: 51/90. STFT memory usage: 39.6 MB. Total memory usage: 2.3/16.0 GB.\n",
      "STFT no: 52/90. STFT memory usage: 38.7 MB. Total memory usage: 2.3/16.0 GB.\n",
      "STFT no: 53/90. STFT memory usage: 37.0 MB. Total memory usage: 2.4/16.0 GB.\n",
      "STFT no: 54/90. STFT memory usage: 33.3 MB. Total memory usage: 2.4/16.0 GB.\n",
      "STFT no: 55/90. STFT memory usage: 33.8 MB. Total memory usage: 2.4/16.0 GB.\n",
      "STFT no: 56/90. STFT memory usage: 41.3 MB. Total memory usage: 2.5/16.0 GB.\n",
      "STFT no: 57/90. STFT memory usage: 63.5 MB. Total memory usage: 2.5/16.0 GB.\n",
      "STFT no: 58/90. STFT memory usage: 48.0 MB. Total memory usage: 2.6/16.0 GB.\n",
      "STFT no: 59/90. STFT memory usage: 75.1 MB. Total memory usage: 2.7/16.0 GB.\n",
      "STFT no: 60/90. STFT memory usage: 51.9 MB. Total memory usage: 2.7/16.0 GB.\n",
      "STFT no: 61/90. STFT memory usage: 56.8 MB. Total memory usage: 2.8/16.0 GB.\n",
      "STFT no: 62/90. STFT memory usage: 47.9 MB. Total memory usage: 2.8/16.0 GB.\n",
      "STFT no: 63/90. STFT memory usage: 35.9 MB. Total memory usage: 2.9/16.0 GB.\n",
      "STFT no: 64/90. STFT memory usage: 35.2 MB. Total memory usage: 2.9/16.0 GB.\n",
      "STFT no: 65/90. STFT memory usage: 37.4 MB. Total memory usage: 2.9/16.0 GB.\n",
      "STFT no: 66/90. STFT memory usage: 59.4 MB. Total memory usage: 3.0/16.0 GB.\n",
      "STFT no: 67/90. STFT memory usage: 81.0 MB. Total memory usage: 3.1/16.0 GB.\n",
      "STFT no: 68/90. STFT memory usage: 38.0 MB. Total memory usage: 3.1/16.0 GB.\n",
      "STFT no: 69/90. STFT memory usage: 30.0 MB. Total memory usage: 3.1/16.0 GB.\n",
      "STFT no: 70/90. STFT memory usage: 41.6 MB. Total memory usage: 3.2/16.0 GB.\n",
      "STFT no: 71/90. STFT memory usage: 48.7 MB. Total memory usage: 3.2/16.0 GB.\n",
      "STFT no: 72/90. STFT memory usage: 47.7 MB. Total memory usage: 3.3/16.0 GB.\n",
      "STFT no: 73/90. STFT memory usage: 48.1 MB. Total memory usage: 3.3/16.0 GB.\n",
      "STFT no: 74/90. STFT memory usage: 50.4 MB. Total memory usage: 3.4/16.0 GB.\n",
      "STFT no: 75/90. STFT memory usage: 43.7 MB. Total memory usage: 3.4/16.0 GB.\n",
      "STFT no: 76/90. STFT memory usage: 53.0 MB. Total memory usage: 3.5/16.0 GB.\n",
      "STFT no: 77/90. STFT memory usage: 42.8 MB. Total memory usage: 3.5/16.0 GB.\n",
      "STFT no: 78/90. STFT memory usage: 37.4 MB. Total memory usage: 3.6/16.0 GB.\n",
      "STFT no: 79/90. STFT memory usage: 51.2 MB. Total memory usage: 3.6/16.0 GB.\n",
      "STFT no: 80/90. STFT memory usage: 46.7 MB. Total memory usage: 3.6/16.0 GB.\n",
      "STFT no: 81/90. STFT memory usage: 54.6 MB. Total memory usage: 3.7/16.0 GB.\n",
      "STFT no: 82/90. STFT memory usage: 41.7 MB. Total memory usage: 3.7/16.0 GB.\n",
      "STFT no: 83/90. STFT memory usage: 45.7 MB. Total memory usage: 3.8/16.0 GB.\n",
      "STFT no: 84/90. STFT memory usage: 54.0 MB. Total memory usage: 3.8/16.0 GB.\n",
      "STFT no: 85/90. STFT memory usage: 45.9 MB. Total memory usage: 3.9/16.0 GB.\n",
      "STFT no: 86/90. STFT memory usage: 61.1 MB. Total memory usage: 4.0/16.0 GB.\n",
      "STFT no: 87/90. STFT memory usage: 61.4 MB. Total memory usage: 4.0/16.0 GB.\n",
      "STFT no: 88/90. STFT memory usage: 58.9 MB. Total memory usage: 4.1/16.0 GB.\n",
      "STFT no: 89/90. STFT memory usage: 46.5 MB. Total memory usage: 4.1/16.0 GB.\n",
      "STFT no: 90/90. STFT memory usage: 57.6 MB. Total memory usage: 4.2/16.0 GB.\n"
     ]
    }
   ],
   "source": [
    "all_data_sources, all_data_mixtures = get_data(sources_data, mixtures_data, mem_limit=16.0)"
   ]
  },
  {
   "cell_type": "code",
   "execution_count": 28,
   "metadata": {},
   "outputs": [],
   "source": [
    "np.save(\"sources_train.npy\", all_data_sources)\n",
    "np.save(\"mixtures_train.npy\", all_data_mixtures)"
   ]
  },
  {
   "cell_type": "code",
   "execution_count": 12,
   "metadata": {},
   "outputs": [],
   "source": [
    "all_data_sources = np.load(\"sources_train.npy\")\n",
    "all_data_mixtures = np.load(\"mixtures_train.npy\")"
   ]
  },
  {
   "cell_type": "code",
   "execution_count": 13,
   "metadata": {},
   "outputs": [
    {
     "name": "stdout",
     "output_type": "stream",
     "text": [
      "Sources shape: (127303, 1, 1025, 1)\n",
      "Mixtures shape: (127303, 15, 1025, 1)\n"
     ]
    }
   ],
   "source": [
    "print(\"Sources shape:\", all_data_sources.shape)\n",
    "print(\"Mixtures shape:\", all_data_mixtures.shape)\n",
    "full_data_len = len(all_data_sources)"
   ]
  },
  {
   "cell_type": "code",
   "execution_count": 14,
   "metadata": {},
   "outputs": [],
   "source": [
    "from sklearn.model_selection import train_test_split\n",
    "\n",
    "def make_dataset(X, y, batch_size=256):\n",
    "    \n",
    "    dataset = tf.data.Dataset.from_tensor_slices((X, y))\n",
    "\n",
    "    dataset = dataset.shuffle(full_data_len)\n",
    "    dataset = dataset.batch(batch_size)\n",
    "    dataset = dataset.prefetch(tf.data.experimental.AUTOTUNE)\n",
    "    \n",
    "    return dataset\n",
    "\n",
    "mixture_train, mixture_val, source_train, source_val = train_test_split(all_data_mixtures,\n",
    "                                                                          all_data_sources,\n",
    "                                                                          test_size=0.2,\n",
    "                                                                          random_state=42)\n",
    "\n",
    "data_train = make_dataset(mixture_train, source_train, 256)\n",
    "data_val = make_dataset(mixture_val, source_val, 256)"
   ]
  },
  {
   "cell_type": "code",
   "execution_count": 15,
   "metadata": {},
   "outputs": [],
   "source": [
    "from tensorflow.keras.models import Sequential\n",
    "from tensorflow.keras import layers\n",
    "\n",
    "autoencoder = Sequential(name='Basic_Autoencoder')\n",
    "\n",
    "autoencoder.add(layers.Conv2D(30, (3, 3), activation='relu', padding='same', input_shape=(15, 1025, 1)))\n",
    "autoencoder.add(layers.MaxPooling2D((3, 5)))\n",
    "autoencoder.add(layers.Conv2D(60, (1, 1), activation='relu', padding='same'))\n",
    "autoencoder.add(layers.MaxPooling2D((1, 5)))\n",
    "autoencoder.add(layers.Conv2D(60, (1, 1), activation='relu', padding='same'))\n",
    "autoencoder.add(layers.Conv2D(120, (1, 1), activation='relu', padding='same'))\n",
    "autoencoder.add(layers.MaxPooling2D((5, 1)))\n",
    "autoencoder.add(layers.Conv2D(120, (1, 1), activation='relu', padding='same'))\n",
    "autoencoder.add(layers.Conv2D(60, (1, 1), activation='relu', padding='same'))\n",
    "autoencoder.add(layers.UpSampling2D((1, 5)))\n",
    "autoencoder.add(layers.Conv2D(30, (3,3), activation='relu', padding='same'))\n",
    "autoencoder.add(layers.UpSampling2D((1, 5)))\n",
    "autoencoder.add(layers.Conv2D(1, (1, 1), activation='relu', padding='same'))\n",
    "\n",
    "autoencoder.compile('adam', 'mean_squared_error')"
   ]
  },
  {
   "cell_type": "code",
   "execution_count": 16,
   "metadata": {},
   "outputs": [
    {
     "name": "stdout",
     "output_type": "stream",
     "text": [
      "Model: \"Basic_Autoencoder\"\n",
      "_________________________________________________________________\n",
      "Layer (type)                 Output Shape              Param #   \n",
      "=================================================================\n",
      "conv2d (Conv2D)              (None, 15, 1025, 30)      300       \n",
      "_________________________________________________________________\n",
      "max_pooling2d (MaxPooling2D) (None, 5, 205, 30)        0         \n",
      "_________________________________________________________________\n",
      "conv2d_1 (Conv2D)            (None, 5, 205, 60)        1860      \n",
      "_________________________________________________________________\n",
      "max_pooling2d_1 (MaxPooling2 (None, 5, 41, 60)         0         \n",
      "_________________________________________________________________\n",
      "conv2d_2 (Conv2D)            (None, 5, 41, 60)         3660      \n",
      "_________________________________________________________________\n",
      "conv2d_3 (Conv2D)            (None, 5, 41, 120)        7320      \n",
      "_________________________________________________________________\n",
      "max_pooling2d_2 (MaxPooling2 (None, 1, 41, 120)        0         \n",
      "_________________________________________________________________\n",
      "conv2d_4 (Conv2D)            (None, 1, 41, 120)        14520     \n",
      "_________________________________________________________________\n",
      "conv2d_5 (Conv2D)            (None, 1, 41, 60)         7260      \n",
      "_________________________________________________________________\n",
      "up_sampling2d (UpSampling2D) (None, 1, 205, 60)        0         \n",
      "_________________________________________________________________\n",
      "conv2d_6 (Conv2D)            (None, 1, 205, 30)        16230     \n",
      "_________________________________________________________________\n",
      "up_sampling2d_1 (UpSampling2 (None, 1, 1025, 30)       0         \n",
      "_________________________________________________________________\n",
      "conv2d_7 (Conv2D)            (None, 1, 1025, 1)        31        \n",
      "=================================================================\n",
      "Total params: 51,181\n",
      "Trainable params: 51,181\n",
      "Non-trainable params: 0\n",
      "_________________________________________________________________\n"
     ]
    }
   ],
   "source": [
    "autoencoder.summary()"
   ]
  },
  {
   "cell_type": "code",
   "execution_count": 18,
   "metadata": {},
   "outputs": [
    {
     "name": "stdout",
     "output_type": "stream",
     "text": [
      "Epoch 1/10\n",
      "398/398 [==============================] - 58s 146ms/step - loss: 6.6792 - val_loss: 6.6091\n",
      "Epoch 2/10\n",
      "398/398 [==============================] - 60s 150ms/step - loss: 6.3467 - val_loss: 6.5896\n",
      "Epoch 3/10\n",
      "398/398 [==============================] - 63s 158ms/step - loss: 6.2637 - val_loss: 6.4814\n",
      "Epoch 4/10\n",
      "398/398 [==============================] - 63s 159ms/step - loss: 6.2061 - val_loss: 6.4097\n",
      "Epoch 5/10\n",
      "398/398 [==============================] - 61s 153ms/step - loss: 6.1633 - val_loss: 6.3640\n",
      "Epoch 6/10\n",
      "398/398 [==============================] - 62s 157ms/step - loss: 6.1264 - val_loss: 6.3251\n",
      "Epoch 7/10\n",
      "398/398 [==============================] - 58s 147ms/step - loss: 6.0972 - val_loss: 6.3110\n",
      "Epoch 8/10\n",
      "398/398 [==============================] - 62s 156ms/step - loss: 6.0690 - val_loss: 6.2753\n",
      "Epoch 9/10\n",
      "398/398 [==============================] - 63s 158ms/step - loss: 6.0454 - val_loss: 6.2670\n",
      "Epoch 10/10\n",
      "398/398 [==============================] - 60s 149ms/step - loss: 6.0243 - val_loss: 6.2508\n"
     ]
    }
   ],
   "source": [
    "history = autoencoder.fit(data_train, epochs=10, validation_data=data_val)"
   ]
  },
  {
   "cell_type": "code",
   "execution_count": 41,
   "metadata": {},
   "outputs": [
    {
     "data": {
      "image/png": "[encoded data removed]",
      "text/plain": [
       "<Figure size 504x288 with 1 Axes>"
      ]
     },
     "metadata": {
      "needs_background": "light"
     },
     "output_type": "display_data"
    }
   ],
   "source": [
    "import matplotlib.pyplot as plt\n",
    "%matplotlib inline\n",
    "\n",
    "plt.figure(figsize=(7, 4))\n",
    "plt.plot(history.history['loss'], label='Training Loss')\n",
    "plt.plot(history.history['val_loss'], label='Validation Loss')\n",
    "plt.xticks(np.arange(0, 10))\n",
    "plt.xlabel('Epoch')\n",
    "plt.ylabel('MSE')\n",
    "plt.title(\"Overfitting, but it works...\")\n",
    "\n",
    "plt.grid(True, alpha=0.25)\n",
    "plt.legend(loc='upper right')\n",
    "plt.show()"
   ]
  }
 ],
 "metadata": {
  "kernelspec": {
   "display_name": "Python [conda env:Tensorflow_2.0]",
   "language": "python",
   "name": "conda-env-Tensorflow_2.0-py"
  },
  "language_info": {
   "codemirror_mode": {
    "name": "ipython",
    "version": 3
   },
   "file_extension": ".py",
   "mimetype": "text/x-python",
   "name": "python",
   "nbconvert_exporter": "python",
   "pygments_lexer": "ipython3",
   "version": "3.7.3"
  }
 },
 "nbformat": 4,
 "nbformat_minor": 2
}
